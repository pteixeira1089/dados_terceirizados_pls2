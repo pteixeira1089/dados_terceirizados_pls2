{
 "cells": [
  {
   "cell_type": "code",
   "execution_count": 1,
   "id": "764b8a1f",
   "metadata": {},
   "outputs": [],
   "source": [
    "#Módulos utilizados\n",
    "import pandas as pd\n",
    "from datetime import date\n",
    "import csv\n",
    "from bs4 import BeautifulSoup\n",
    "import requests\n",
    "import time"
   ]
  },
  {
   "cell_type": "code",
   "execution_count": 2,
   "id": "198bee01",
   "metadata": {},
   "outputs": [
    {
     "name": "stdout",
     "output_type": "stream",
     "text": [
      "\n"
     ]
    },
    {
     "name": "stderr",
     "output_type": "stream",
     "text": [
      "[WDM] - ====== WebDriver manager ======\n",
      "[WDM] - There is no [win32] chromedriver for browser  in cache\n",
      "[WDM] - About to download new driver from https://chromedriver.storage.googleapis.com/114.0.5735.90/chromedriver_win32.zip\n",
      "[WDM] - Driver has been saved in cache [C:\\Users\\pteix\\.wdm\\drivers\\chromedriver\\win32\\114.0.5735.90]\n"
     ]
    }
   ],
   "source": [
    "#Utilizando o Selenium como alternativa - método get está sendo bloqueado pelo servidor\n",
    "#Importações selenium\n",
    "from selenium import webdriver\n",
    "from selenium.webdriver.chrome.service import Service\n",
    "from webdriver_manager.chrome import ChromeDriverManager\n",
    "from selenium.webdriver.common.by import By\n",
    "\n",
    "#Importações Selenium Wait\n",
    "from selenium.webdriver.support.ui import WebDriverWait\n",
    "from selenium.webdriver.support import expected_conditions as EC\n",
    "\n",
    "servico = Service(ChromeDriverManager(version=\"114.0.5735.90\").install())\n",
    "#servico = Service()\n",
    "options = webdriver.ChromeOptions()\n",
    "navegador = webdriver.Chrome(service=servico, options=options)"
   ]
  },
  {
   "cell_type": "code",
   "execution_count": 2,
   "id": "ad4050df",
   "metadata": {},
   "outputs": [],
   "source": [
    "#criando as variáveis do dia de hoje\n",
    "todays_date = date.today()\n",
    "\n",
    "todays_year = todays_date.year\n",
    "todays_year_str = str(todays_year)\n",
    "\n",
    "todays_month = todays_date.month"
   ]
  },
  {
   "cell_type": "code",
   "execution_count": 3,
   "id": "77108770",
   "metadata": {},
   "outputs": [],
   "source": [
    "#Função que obtém um dataframe de terceirizados de uma página html passada como argumento\n",
    "def obtem_data_frame_terceirizados(site):\n",
    "    #Entrar no [site] que contém a tabela de terceirizados\n",
    "    #Carregar a tabela de terceirizados do site para um dataframe\n",
    "    \n",
    "    #Carrega uma lista de dataframes. Cada dataframe desta lista é uma tabela do site\n",
    "    dfs_terceirizados = pd.read_html(site)\n",
    "    \n",
    "    #Obter somente o dataframe de terceirizados\n",
    "    df_terceirizados = dfs_terceirizados[0]\n",
    "    \n",
    "    return df_terceirizados\n",
    "\n",
    "\n",
    "def conta_quantidade_terceirizados(dataframe):\n",
    "    #Contar e retornar a quantidade de linhas de um [dataframe] de terceirizados\n",
    "    return len(dataframe.index)\n",
    "\n",
    "def filtra_dataframe(dataframe: 'dataframe', nome_col: 'str', lista_valores: 'list'):\n",
    "    #Filtrar um [dataframe] no [campo 'empresa'], com o valor da [empresa escolhida], aplicando\n",
    "    df_filtrado = dataframe.loc[dataframe[nome_col].isin(lista_valores)]\n",
    "    return df_filtrado\n",
    "    \n",
    "    \n",
    "\n"
   ]
  },
  {
   "cell_type": "code",
   "execution_count": 4,
   "id": "49f50bd8",
   "metadata": {},
   "outputs": [],
   "source": [
    "#Variáveis de acesso\n",
    "arquivo_atual = r'C:\\Users\\pteix\\STJ- Superior Tribunal de Justiça\\AGS Teams - Documentos\\1. Drive H AGS\\Assessoria\\0 Dados\\PLS\\GRUPOEXEC\\1. TEMAS\\GE Rec Tecnol\\04. Impressão\\QtdTerceirizados.csv'"
   ]
  },
  {
   "cell_type": "code",
   "execution_count": 5,
   "id": "71742182",
   "metadata": {},
   "outputs": [],
   "source": [
    "#Carregando dados do arquivo atual\n",
    "df_atual = pd.read_csv(arquivo_atual)\n",
    "\n",
    "#Converte a coluna de datas para o formato de data do pandas\n",
    "df_atual['data'] = pd.to_datetime(df_atual['data'])\n",
    "\n",
    "#display(df_atual)\n",
    "#print(df_atual.info())"
   ]
  },
  {
   "cell_type": "code",
   "execution_count": 6,
   "id": "6ffb9f6c",
   "metadata": {
    "scrolled": true
   },
   "outputs": [
    {
     "name": "stdout",
     "output_type": "stream",
     "text": [
      "2023-05-01 00:00:00\n",
      "2023-06-01 00:00:00\n"
     ]
    }
   ],
   "source": [
    "#Obtendo a data mais recente\n",
    "ultima_data = df_atual['data'].max()\n",
    "ultimo_mes = ultima_data.month\n",
    "\n",
    "#Calculando data de corte para execução do código\n",
    "#data_corte = ultima_data - pd.Timedelta(days=180)\n",
    "data_corte = pd.Timestamp(year = ultima_data.year, month = ultimo_mes + 1, day=1)\n",
    "ano_corte = data_corte.year\n",
    "mes_corte = data_corte.month\n",
    "data_corte = pd.Timestamp(year = ano_corte, month = mes_corte, day=1 )\n",
    "\n",
    "print(ultima_data)\n",
    "print(data_corte)"
   ]
  },
  {
   "cell_type": "code",
   "execution_count": 7,
   "id": "d29acd4d",
   "metadata": {},
   "outputs": [],
   "source": [
    "html = 'terceirizados_2023_06.html'"
   ]
  },
  {
   "cell_type": "code",
   "execution_count": 11,
   "id": "625c7f1d",
   "metadata": {},
   "outputs": [
    {
     "name": "stdout",
     "output_type": "stream",
     "text": [
      "iniciando o dicionario\n",
      "definindo variável i do loop - ano\n",
      "definindo variável i_str\n",
      "2023\n",
      "Entrando no looping do mês - variável j\n",
      "fazendo o teste do valor da variável j\n",
      "não se trata do mês atual. Definindo variável j_str\n",
      "testando se j é menor que 10\n",
      "definindo a variável string do codigo html\n",
      "20230601.html\n",
      "definindo a chave do dicionário\n",
      "define a variável da endereco a ser acessado\n"
     ]
    },
    {
     "ename": "ValueError",
     "evalue": "No tables found",
     "output_type": "error",
     "traceback": [
      "\u001b[1;31m---------------------------------------------------------------------------\u001b[0m",
      "\u001b[1;31mValueError\u001b[0m                                Traceback (most recent call last)",
      "\u001b[1;32m<ipython-input-11-467119127067>\u001b[0m in \u001b[0;36m<module>\u001b[1;34m\u001b[0m\n\u001b[0;32m     86\u001b[0m         \u001b[1;31m#print(table)\u001b[0m\u001b[1;33m\u001b[0m\u001b[1;33m\u001b[0m\u001b[1;33m\u001b[0m\u001b[0m\n\u001b[0;32m     87\u001b[0m \u001b[1;33m\u001b[0m\u001b[0m\n\u001b[1;32m---> 88\u001b[1;33m         \u001b[0mdf\u001b[0m \u001b[1;33m=\u001b[0m \u001b[0mpd\u001b[0m\u001b[1;33m.\u001b[0m\u001b[0mread_html\u001b[0m\u001b[1;33m(\u001b[0m\u001b[0mhtml\u001b[0m\u001b[1;33m)\u001b[0m\u001b[1;33m[\u001b[0m\u001b[1;36m0\u001b[0m\u001b[1;33m]\u001b[0m\u001b[1;33m\u001b[0m\u001b[1;33m\u001b[0m\u001b[0m\n\u001b[0m\u001b[0;32m     89\u001b[0m         \u001b[0mdfs_terceirizados\u001b[0m\u001b[1;33m[\u001b[0m\u001b[0mdic_chave\u001b[0m\u001b[1;33m]\u001b[0m \u001b[1;33m=\u001b[0m \u001b[0mdf\u001b[0m\u001b[1;33m\u001b[0m\u001b[1;33m\u001b[0m\u001b[0m\n\u001b[0;32m     90\u001b[0m \u001b[1;33m\u001b[0m\u001b[0m\n",
      "\u001b[1;32m~\\anaconda3\\lib\\site-packages\\pandas\\io\\html.py\u001b[0m in \u001b[0;36mread_html\u001b[1;34m(io, match, flavor, header, index_col, skiprows, attrs, parse_dates, thousands, encoding, decimal, converters, na_values, keep_default_na, displayed_only, extract_links, dtype_backend)\u001b[0m\n\u001b[0;32m   1210\u001b[0m     \u001b[0mio\u001b[0m \u001b[1;33m=\u001b[0m \u001b[0mstringify_path\u001b[0m\u001b[1;33m(\u001b[0m\u001b[0mio\u001b[0m\u001b[1;33m)\u001b[0m\u001b[1;33m\u001b[0m\u001b[1;33m\u001b[0m\u001b[0m\n\u001b[0;32m   1211\u001b[0m \u001b[1;33m\u001b[0m\u001b[0m\n\u001b[1;32m-> 1212\u001b[1;33m     return _parse(\n\u001b[0m\u001b[0;32m   1213\u001b[0m         \u001b[0mflavor\u001b[0m\u001b[1;33m=\u001b[0m\u001b[0mflavor\u001b[0m\u001b[1;33m,\u001b[0m\u001b[1;33m\u001b[0m\u001b[1;33m\u001b[0m\u001b[0m\n\u001b[0;32m   1214\u001b[0m         \u001b[0mio\u001b[0m\u001b[1;33m=\u001b[0m\u001b[0mio\u001b[0m\u001b[1;33m,\u001b[0m\u001b[1;33m\u001b[0m\u001b[1;33m\u001b[0m\u001b[0m\n",
      "\u001b[1;32m~\\anaconda3\\lib\\site-packages\\pandas\\io\\html.py\u001b[0m in \u001b[0;36m_parse\u001b[1;34m(flavor, io, match, attrs, encoding, displayed_only, extract_links, **kwargs)\u001b[0m\n\u001b[0;32m    999\u001b[0m     \u001b[1;32melse\u001b[0m\u001b[1;33m:\u001b[0m\u001b[1;33m\u001b[0m\u001b[1;33m\u001b[0m\u001b[0m\n\u001b[0;32m   1000\u001b[0m         \u001b[1;32massert\u001b[0m \u001b[0mretained\u001b[0m \u001b[1;32mis\u001b[0m \u001b[1;32mnot\u001b[0m \u001b[1;32mNone\u001b[0m  \u001b[1;31m# for mypy\u001b[0m\u001b[1;33m\u001b[0m\u001b[1;33m\u001b[0m\u001b[0m\n\u001b[1;32m-> 1001\u001b[1;33m         \u001b[1;32mraise\u001b[0m \u001b[0mretained\u001b[0m\u001b[1;33m\u001b[0m\u001b[1;33m\u001b[0m\u001b[0m\n\u001b[0m\u001b[0;32m   1002\u001b[0m \u001b[1;33m\u001b[0m\u001b[0m\n\u001b[0;32m   1003\u001b[0m     \u001b[0mret\u001b[0m \u001b[1;33m=\u001b[0m \u001b[1;33m[\u001b[0m\u001b[1;33m]\u001b[0m\u001b[1;33m\u001b[0m\u001b[1;33m\u001b[0m\u001b[0m\n",
      "\u001b[1;32m~\\anaconda3\\lib\\site-packages\\pandas\\io\\html.py\u001b[0m in \u001b[0;36m_parse\u001b[1;34m(flavor, io, match, attrs, encoding, displayed_only, extract_links, **kwargs)\u001b[0m\n\u001b[0;32m    979\u001b[0m \u001b[1;33m\u001b[0m\u001b[0m\n\u001b[0;32m    980\u001b[0m         \u001b[1;32mtry\u001b[0m\u001b[1;33m:\u001b[0m\u001b[1;33m\u001b[0m\u001b[1;33m\u001b[0m\u001b[0m\n\u001b[1;32m--> 981\u001b[1;33m             \u001b[0mtables\u001b[0m \u001b[1;33m=\u001b[0m \u001b[0mp\u001b[0m\u001b[1;33m.\u001b[0m\u001b[0mparse_tables\u001b[0m\u001b[1;33m(\u001b[0m\u001b[1;33m)\u001b[0m\u001b[1;33m\u001b[0m\u001b[1;33m\u001b[0m\u001b[0m\n\u001b[0m\u001b[0;32m    982\u001b[0m         \u001b[1;32mexcept\u001b[0m \u001b[0mValueError\u001b[0m \u001b[1;32mas\u001b[0m \u001b[0mcaught\u001b[0m\u001b[1;33m:\u001b[0m\u001b[1;33m\u001b[0m\u001b[1;33m\u001b[0m\u001b[0m\n\u001b[0;32m    983\u001b[0m             \u001b[1;31m# if `io` is an io-like object, check if it's seekable\u001b[0m\u001b[1;33m\u001b[0m\u001b[1;33m\u001b[0m\u001b[1;33m\u001b[0m\u001b[0m\n",
      "\u001b[1;32m~\\anaconda3\\lib\\site-packages\\pandas\\io\\html.py\u001b[0m in \u001b[0;36mparse_tables\u001b[1;34m(self)\u001b[0m\n\u001b[0;32m    255\u001b[0m         \u001b[0mlist\u001b[0m \u001b[0mof\u001b[0m \u001b[0mparsed\u001b[0m \u001b[1;33m(\u001b[0m\u001b[0mheader\u001b[0m\u001b[1;33m,\u001b[0m \u001b[0mbody\u001b[0m\u001b[1;33m,\u001b[0m \u001b[0mfooter\u001b[0m\u001b[1;33m)\u001b[0m \u001b[0mtuples\u001b[0m \u001b[1;32mfrom\u001b[0m \u001b[0mtables\u001b[0m\u001b[1;33m.\u001b[0m\u001b[1;33m\u001b[0m\u001b[1;33m\u001b[0m\u001b[0m\n\u001b[0;32m    256\u001b[0m         \"\"\"\n\u001b[1;32m--> 257\u001b[1;33m         \u001b[0mtables\u001b[0m \u001b[1;33m=\u001b[0m \u001b[0mself\u001b[0m\u001b[1;33m.\u001b[0m\u001b[0m_parse_tables\u001b[0m\u001b[1;33m(\u001b[0m\u001b[0mself\u001b[0m\u001b[1;33m.\u001b[0m\u001b[0m_build_doc\u001b[0m\u001b[1;33m(\u001b[0m\u001b[1;33m)\u001b[0m\u001b[1;33m,\u001b[0m \u001b[0mself\u001b[0m\u001b[1;33m.\u001b[0m\u001b[0mmatch\u001b[0m\u001b[1;33m,\u001b[0m \u001b[0mself\u001b[0m\u001b[1;33m.\u001b[0m\u001b[0mattrs\u001b[0m\u001b[1;33m)\u001b[0m\u001b[1;33m\u001b[0m\u001b[1;33m\u001b[0m\u001b[0m\n\u001b[0m\u001b[0;32m    258\u001b[0m         \u001b[1;32mreturn\u001b[0m \u001b[1;33m(\u001b[0m\u001b[0mself\u001b[0m\u001b[1;33m.\u001b[0m\u001b[0m_parse_thead_tbody_tfoot\u001b[0m\u001b[1;33m(\u001b[0m\u001b[0mtable\u001b[0m\u001b[1;33m)\u001b[0m \u001b[1;32mfor\u001b[0m \u001b[0mtable\u001b[0m \u001b[1;32min\u001b[0m \u001b[0mtables\u001b[0m\u001b[1;33m)\u001b[0m\u001b[1;33m\u001b[0m\u001b[1;33m\u001b[0m\u001b[0m\n\u001b[0;32m    259\u001b[0m \u001b[1;33m\u001b[0m\u001b[0m\n",
      "\u001b[1;32m~\\anaconda3\\lib\\site-packages\\pandas\\io\\html.py\u001b[0m in \u001b[0;36m_parse_tables\u001b[1;34m(self, doc, match, attrs)\u001b[0m\n\u001b[0;32m    611\u001b[0m \u001b[1;33m\u001b[0m\u001b[0m\n\u001b[0;32m    612\u001b[0m         \u001b[1;32mif\u001b[0m \u001b[1;32mnot\u001b[0m \u001b[0mtables\u001b[0m\u001b[1;33m:\u001b[0m\u001b[1;33m\u001b[0m\u001b[1;33m\u001b[0m\u001b[0m\n\u001b[1;32m--> 613\u001b[1;33m             \u001b[1;32mraise\u001b[0m \u001b[0mValueError\u001b[0m\u001b[1;33m(\u001b[0m\u001b[1;34m\"No tables found\"\u001b[0m\u001b[1;33m)\u001b[0m\u001b[1;33m\u001b[0m\u001b[1;33m\u001b[0m\u001b[0m\n\u001b[0m\u001b[0;32m    614\u001b[0m \u001b[1;33m\u001b[0m\u001b[0m\n\u001b[0;32m    615\u001b[0m         \u001b[0mresult\u001b[0m \u001b[1;33m=\u001b[0m \u001b[1;33m[\u001b[0m\u001b[1;33m]\u001b[0m\u001b[1;33m\u001b[0m\u001b[1;33m\u001b[0m\u001b[0m\n",
      "\u001b[1;31mValueError\u001b[0m: No tables found"
     ]
    }
   ],
   "source": [
    "#Define cabeçalho para a requisição http\n",
    "headers = {\n",
    "    'User-Agent': 'Mozilla/5.0 (Windows NT 10.0; Win64; x64) AppleWebKit/537.36 (KHTML, like Gecko) Chrome/113.0.0.0 Safari/537.36',\n",
    "    'Accept-Language': 'pt-BR,pt;q=0.9,en-US;q=0.8,en;q=0.7'\n",
    "}\n",
    "\n",
    "#Inicia dicionário de dataframes\n",
    "print('iniciando o dicionario')\n",
    "dfs_terceirizados = {}\n",
    "\n",
    "#Loop do ano: do ano de corte até o ano atual\n",
    "print('definindo variável i do loop - ano')\n",
    "for i in range(ano_corte,todays_year + 1):\n",
    "\n",
    "    # Define a variável string do ano\n",
    "    print('definindo variável i_str')\n",
    "    i_str = str(i)\n",
    "    print(i_str)\n",
    "    \n",
    "    \n",
    "    #Loop do mês: do mês 1 ao mês 12\n",
    "    print('Entrando no looping do mês - variável j')\n",
    "    for j in range(1,13):\n",
    "\n",
    "        #Constrói a data da iteração\n",
    "        data_iteracao = pd.Timestamp(year = i, month = j, day= 1)\n",
    "        \n",
    "        #Se data da iteração for menor que a data de corte, passa para o próximo valor do iterador de mês\n",
    "        if data_iteracao < data_corte:\n",
    "            continue\n",
    "        \n",
    "        #testa se o mês da iteração ainda não ocorreu\n",
    "        print('fazendo o teste do valor da variável j')\n",
    "        if ((i == todays_year) and (j > mes_corte)):\n",
    "            break #sai do loop da variável j, responsável pelo mês\n",
    "        else:\n",
    "            print('não se trata do mês atual. Definindo variável j_str')\n",
    "            #Define a variável string do mês da iteração\n",
    "            print('testando se j é menor que 10')\n",
    "            if j<10:\n",
    "                j_str = '0'+str(j)\n",
    "            else:\n",
    "                j_str = str(j)\n",
    "        \n",
    "        print('definindo a variável string do codigo html')\n",
    "        # Define a variável string do codigo html\n",
    "        html_str = i_str + j_str + '01.html'\n",
    "        print(html_str)\n",
    "        \n",
    "        \n",
    "        #Define a string chave do dicionário\n",
    "        print('definindo a chave do dicionário')\n",
    "        dic_chave = data_iteracao\n",
    "\n",
    "        #Define a variavel da pagina html a ser lida\n",
    "        print('define a variável da endereco a ser acessado')\n",
    "        endereco = r'https://www.stj.jus.br/docs_internet/transparencia/stjtransparencia_anexoVI_' + html_str\n",
    "        \n",
    "        \n",
    "        #Inicia uma sessão de acesso ao site:\n",
    "        #with requests.Session() as s:\n",
    "        \n",
    "        \n",
    "        #    #Verificando disponibilidade da página html\n",
    "        #    print('tentando obter resposta do servidor')\n",
    "        #    response = s.get(endereco, headers=headers)\n",
    "        #    print(response.status_code)\n",
    "        \n",
    "        #    #Imprime informações da iteração:\n",
    "        #print('Iteração {}-{}'.format(i_str, j_str))\n",
    "        #print('Link: {}'.format(endereco))\n",
    "        #    #print(response)\n",
    "        #html = response.text\n",
    "        \n",
    "        \n",
    "        #Navega até o site\n",
    "        navegador.get(endereco)\n",
    "        time.sleep(3)\n",
    "        html = navegador.page_source\n",
    "\n",
    "        \n",
    "        #soup = BeautifulSoup(html, 'html.parser')\n",
    "        #table = soup.find('table')\n",
    "\n",
    "        #print(soup)\n",
    "        #print(table)\n",
    "        \n",
    "        df = pd.read_html(html)[0]\n",
    "        dfs_terceirizados[dic_chave] = df\n",
    "        \n",
    "        display(df)\n",
    "\n",
    "        "
   ]
  },
  {
   "cell_type": "code",
   "execution_count": null,
   "id": "bfabd590",
   "metadata": {},
   "outputs": [],
   "source": []
  },
  {
   "cell_type": "code",
   "execution_count": null,
   "id": "e8948657",
   "metadata": {},
   "outputs": [],
   "source": [
    "#Constrói um dicionário de informações extraídas das tabelas de terceirizados\n",
    "df_informacoes_terceirizados = {}\n",
    "\n",
    "#Compila valores do dicionário de dataframes obtido\n",
    "for item in dfs_terceirizados:\n",
    "    print(item)\n",
    "    display(dfs_terceirizados[item])\n",
    "    df_unidades_limpeza = filtra_dataframe(dfs_terceirizados[item], 4 , [\"Seção de Limpeza e Conservação\",\"Coordenadoria de Conservação Predial\",\"Seção de Administração de Edifícios\"])\n",
    "    df_terceirizados_limpeza = filtra_dataframe(df_unidades_limpeza, 3, [\"Jauzeiro\", \"Servente\", \"Supervisor\", \"Supervisor Geral de Serventes\"])\n",
    "    display(df_terceirizados_limpeza)\n",
    "    terceirizados_limpeza = conta_quantidade_terceirizados(df_terceirizados_limpeza)\n",
    "    terceirizados_total = conta_quantidade_terceirizados(dfs_terceirizados[item]) - 1\n",
    "    \n",
    "    df_informacoes_terceirizados[item] = (terceirizados_total, terceirizados_limpeza)\n",
    "    "
   ]
  },
  {
   "cell_type": "code",
   "execution_count": null,
   "id": "152c0cb0",
   "metadata": {
    "scrolled": false
   },
   "outputs": [],
   "source": [
    "#Obtém lista de datas a serem atualizadas\n",
    "datas_update = [data for data in df_informacoes_terceirizados if len(df_atual.loc[df_atual['data'] == data]) > 0]\n",
    "\n",
    "#Obtém lista de datas a serem acrescentadas\n",
    "datas_add = [data for data in df_informacoes_terceirizados if len(df_atual.loc[df_atual['data'] == data]) == 0]\n",
    "\n",
    "#Atualiza os valores do dataframe com os valores retornados pela consulta atual\n",
    "for data in datas_update:\n",
    "    df_atual.loc[df_atual['data'] == data] = [data, df_informacoes_terceirizados[data][0], df_informacoes_terceirizados[data][1]]\n",
    "\n",
    "#Acrescenta os novos valores obtidos pela consulta no dataframe\n",
    "for data in datas_add:\n",
    "    new_row = {'data': [data], 'terceirizados': [df_informacoes_terceirizados[data][0]], 'terceirizados_limpeza': [df_informacoes_terceirizados[data][1]]}\n",
    "    df_atual = pd.concat([df_atual, pd.DataFrame(new_row)], ignore_index = True)\n",
    "\n",
    "for data in datas_update:\n",
    "    display(df_atual.loc[df_atual['data'] == data])\n",
    "\n",
    "    \n",
    "for data in datas_add:\n",
    "    display(df_atual.loc[df_atual['data'] == data])\n",
    "    \n",
    "    \n",
    "\n",
    "    \n",
    "    "
   ]
  },
  {
   "cell_type": "code",
   "execution_count": null,
   "id": "c3ddba23",
   "metadata": {},
   "outputs": [],
   "source": [
    "#Dataframe final\n",
    "display(df_atual)\n",
    "\n",
    "#Exporta o dataframe final\n",
    "#nome_arquivo = r'QtdTerceirizados.csv'\n",
    "caminho = r'C:\\Users\\pteix\\STJ- Superior Tribunal de Justiça\\AGS Teams - Documentos\\1. Drive H AGS\\Assessoria\\0 Dados\\PLS\\GRUPOEXEC\\1. TEMAS\\GE Rec Tecnol\\04. Impressão\\QtdTerceirizados.csv'\n",
    "df_atual.to_csv(caminho, index = False)"
   ]
  },
  {
   "cell_type": "code",
   "execution_count": 16,
   "id": "a6b9df8b",
   "metadata": {},
   "outputs": [],
   "source": []
  },
  {
   "cell_type": "code",
   "execution_count": null,
   "id": "70d120a5",
   "metadata": {},
   "outputs": [],
   "source": []
  }
 ],
 "metadata": {
  "kernelspec": {
   "display_name": "Python 3",
   "language": "python",
   "name": "python3"
  },
  "language_info": {
   "codemirror_mode": {
    "name": "ipython",
    "version": 3
   },
   "file_extension": ".py",
   "mimetype": "text/x-python",
   "name": "python",
   "nbconvert_exporter": "python",
   "pygments_lexer": "ipython3",
   "version": "3.8.8"
  }
 },
 "nbformat": 4,
 "nbformat_minor": 5
}
